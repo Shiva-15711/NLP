{
  "nbformat": 4,
  "nbformat_minor": 0,
  "metadata": {
    "colab": {
      "name": "5B1 Assignment 1 NLP.ipynb",
      "provenance": [],
      "collapsed_sections": []
    },
    "kernelspec": {
      "name": "python3",
      "display_name": "Python 3"
    },
    "language_info": {
      "name": "python"
    }
  },
  "cells": [
    {
      "cell_type": "markdown",
      "source": [
        "# Paragraph to sentences and words\n"
      ],
      "metadata": {
        "id": "R0ATuIKG09ss"
      }
    },
    {
      "cell_type": "code",
      "source": [
        "import nltk\n",
        "nltk.download('punkt')\n",
        "tk = nltk.data.load('tokenizers/punkt/english.pickle')\n",
        "para = \"Are you fascinated by the amount of text data available on the internet? Are you looking for ways to work with this text data but aren’t sure where to begin? Machines, after all, recognize numbers, not the letters of our language. And that can be a tricky landscape to navigate in machine learning. Solving an NLP problem is a multi-stage process. We need to clean the unstructured text data first before we can even think about getting to the modelling stage. Cleaning the data consists of a few key steps.\"\n",
        "#Tokenizing into sentences\n",
        "print(tk.tokenize(para))\n",
        "print(\"\\n\")\n",
        "#Tokenizing into words\n",
        "print(nltk.tokenize.word_tokenize(para))"
      ],
      "metadata": {
        "colab": {
          "base_uri": "https://localhost:8080/"
        },
        "id": "bIZv22aN1ASi",
        "outputId": "b72a50b4-82a1-416f-f134-c9da52edc88d"
      },
      "execution_count": null,
      "outputs": [
        {
          "output_type": "stream",
          "name": "stdout",
          "text": [
            "['Are you fascinated by the amount of text data available on the internet?', 'Are you looking for ways to work with this text data but aren’t sure where to begin?', 'Machines, after all, recognize numbers, not the letters of our language.', 'And that can be a tricky landscape to navigate in machine learning.', 'Solving an NLP problem is a multi-stage process.', 'We need to clean the unstructured text data first before we can even think about getting to the modelling stage.', 'Cleaning the data consists of a few key steps.']\n",
            "\n",
            "\n",
            "['Are', 'you', 'fascinated', 'by', 'the', 'amount', 'of', 'text', 'data', 'available', 'on', 'the', 'internet', '?', 'Are', 'you', 'looking', 'for', 'ways', 'to', 'work', 'with', 'this', 'text', 'data', 'but', 'aren', '’', 't', 'sure', 'where', 'to', 'begin', '?', 'Machines', ',', 'after', 'all', ',', 'recognize', 'numbers', ',', 'not', 'the', 'letters', 'of', 'our', 'language', '.', 'And', 'that', 'can', 'be', 'a', 'tricky', 'landscape', 'to', 'navigate', 'in', 'machine', 'learning', '.', 'Solving', 'an', 'NLP', 'problem', 'is', 'a', 'multi-stage', 'process', '.', 'We', 'need', 'to', 'clean', 'the', 'unstructured', 'text', 'data', 'first', 'before', 'we', 'can', 'even', 'think', 'about', 'getting', 'to', 'the', 'modelling', 'stage', '.', 'Cleaning', 'the', 'data', 'consists', 'of', 'a', 'few', 'key', 'steps', '.']\n"
          ]
        },
        {
          "output_type": "stream",
          "name": "stderr",
          "text": [
            "[nltk_data] Downloading package punkt to /root/nltk_data...\n",
            "[nltk_data]   Package punkt is already up-to-date!\n"
          ]
        }
      ]
    },
    {
      "cell_type": "markdown",
      "source": [
        "# Stem and Lemma words"
      ],
      "metadata": {
        "id": "LelzV_o55iDr"
      }
    },
    {
      "cell_type": "code",
      "source": [
        "from nltk.stem import PorterStemmer\n",
        "port = PorterStemmer()\n",
        "nltk.download('wordnet')\n",
        "nltk.download('omw-1.4')\n",
        "from nltk.stem import WordNetLemmatizer \n",
        "lm = WordNetLemmatizer()\n",
        "#Stem words\n",
        "print(\"STEM WORDS:\")\n",
        "print(port.stem(\"cats\"))\n",
        "print(port.stem(\"trouble\"))\n",
        "print(port.stem(\"troubling\"))\n",
        "print(port.stem(\"troubled\"))\n",
        "print(port.stem(\"having\"))\n",
        "print(port.stem(\"Corriendo\"))\n",
        "print(port.stem(\"at\"))\n",
        "print(port.stem(\"was\"))\n",
        "#Lemma words\n",
        "print(\"\\nLEMMA WORDS:\")\n",
        "print(lm.lemmatize(\"cats\"))\n",
        "print(lm.lemmatize(\"trouble\"))\n",
        "print(lm.lemmatize(\"troubling\"))\n",
        "print(lm.lemmatize(\"troubled\"))\n",
        "print(lm.lemmatize(\"having\"))\n",
        "print(lm.lemmatize(\"Corriendo\"))\n",
        "print(lm.lemmatize(\"at\"))\n",
        "print(lm.lemmatize(\"was\"))"
      ],
      "metadata": {
        "colab": {
          "base_uri": "https://localhost:8080/"
        },
        "id": "s6v92VJO3fCz",
        "outputId": "1d8e131a-b41d-43b9-f931-2ee900b91376"
      },
      "execution_count": null,
      "outputs": [
        {
          "output_type": "stream",
          "name": "stdout",
          "text": [
            "STEM WORDS:\n",
            "cat\n",
            "troubl\n",
            "troubl\n",
            "troubl\n",
            "have\n",
            "corriendo\n",
            "at\n",
            "wa\n",
            "\n",
            "LEMMA WORDS:\n",
            "cat\n",
            "trouble\n",
            "troubling\n",
            "troubled\n",
            "having\n",
            "Corriendo\n",
            "at\n",
            "wa\n"
          ]
        },
        {
          "output_type": "stream",
          "name": "stderr",
          "text": [
            "[nltk_data] Downloading package wordnet to /root/nltk_data...\n",
            "[nltk_data]   Package wordnet is already up-to-date!\n",
            "[nltk_data] Downloading package omw-1.4 to /root/nltk_data...\n",
            "[nltk_data]   Package omw-1.4 is already up-to-date!\n"
          ]
        }
      ]
    }
  ]
}